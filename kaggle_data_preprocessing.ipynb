{
 "cells": [
  {
   "cell_type": "code",
   "execution_count": 1,
   "id": "9a681362",
   "metadata": {},
   "outputs": [],
   "source": [
    "# This Python 3 environment comes with many helpful analytics libraries installed\n",
    "# It is defined by the kaggle/python Docker image: https://github.com/kaggle/docker-python\n",
    "# For example, here's several helpful packages to load\n",
    "\n",
    "import numpy as np # linear algebra\n",
    "import pandas as pd # data processing, CSV file I/O (e.g. pd.read_csv)\n",
    "\n",
    "import matplotlib.pyplot as plt\n",
    "\n",
    "import warnings\n",
    "warnings.filterwarnings('ignore')\n",
    "\n",
    "# Input data files are available in the read-only \"../input/\" directory\n",
    "# For example, running this (by clicking run or pressing Shift+Enter) will list all files under the input directory\n",
    "\n",
    "import os\n",
    "for dirname, _, filenames in os.walk('/kaggle/input'):\n",
    "    for filename in filenames:\n",
    "        print(os.path.join(dirname, filename))\n",
    "\n",
    "# You can write up to 20GB to the current directory (/kaggle/working/) that gets preserved as output when you create a version using \"Save & Run All\" \n",
    "# You can also write temporary files to /kaggle/temp/, but they won't be saved outside of the current session"
   ]
  },
  {
   "cell_type": "code",
   "execution_count": 2,
   "id": "eb5443a2",
   "metadata": {},
   "outputs": [],
   "source": [
    "df = pd.read_csv('data/car_price.csv')\n",
    "df = df.drop(columns=['Unnamed: 0'])"
   ]
  },
  {
   "cell_type": "code",
   "execution_count": 3,
   "id": "ed3722fb",
   "metadata": {
    "scrolled": true
   },
   "outputs": [
    {
     "name": "stdout",
     "output_type": "stream",
     "text": [
      "<class 'pandas.core.frame.DataFrame'>\n",
      "RangeIndex: 5512 entries, 0 to 5511\n",
      "Data columns (total 9 columns):\n",
      " #   Column               Non-Null Count  Dtype \n",
      "---  ------               --------------  ----- \n",
      " 0   car_name             5512 non-null   object\n",
      " 1   car_prices_in_rupee  5512 non-null   object\n",
      " 2   kms_driven           5512 non-null   object\n",
      " 3   fuel_type            5512 non-null   object\n",
      " 4   transmission         5512 non-null   object\n",
      " 5   ownership            5512 non-null   object\n",
      " 6   manufacture          5512 non-null   int64 \n",
      " 7   engine               5512 non-null   object\n",
      " 8   Seats                5512 non-null   object\n",
      "dtypes: int64(1), object(8)\n",
      "memory usage: 387.7+ KB\n"
     ]
    }
   ],
   "source": [
    "df.info()"
   ]
  },
  {
   "cell_type": "code",
   "execution_count": 4,
   "id": "b2fbca92",
   "metadata": {
    "scrolled": false
   },
   "outputs": [
    {
     "data": {
      "text/html": [
       "<div>\n",
       "<style scoped>\n",
       "    .dataframe tbody tr th:only-of-type {\n",
       "        vertical-align: middle;\n",
       "    }\n",
       "\n",
       "    .dataframe tbody tr th {\n",
       "        vertical-align: top;\n",
       "    }\n",
       "\n",
       "    .dataframe thead th {\n",
       "        text-align: right;\n",
       "    }\n",
       "</style>\n",
       "<table border=\"1\" class=\"dataframe\">\n",
       "  <thead>\n",
       "    <tr style=\"text-align: right;\">\n",
       "      <th></th>\n",
       "      <th>car_name</th>\n",
       "      <th>car_prices_in_rupee</th>\n",
       "      <th>kms_driven</th>\n",
       "      <th>fuel_type</th>\n",
       "      <th>transmission</th>\n",
       "      <th>ownership</th>\n",
       "      <th>manufacture</th>\n",
       "      <th>engine</th>\n",
       "      <th>Seats</th>\n",
       "    </tr>\n",
       "  </thead>\n",
       "  <tbody>\n",
       "    <tr>\n",
       "      <th>0</th>\n",
       "      <td>Jeep Compass 2.0 Longitude Option BSIV</td>\n",
       "      <td>10.03 Lakh</td>\n",
       "      <td>86,226 kms</td>\n",
       "      <td>Diesel</td>\n",
       "      <td>Manual</td>\n",
       "      <td>1st Owner</td>\n",
       "      <td>2017</td>\n",
       "      <td>1956 cc</td>\n",
       "      <td>5 Seats</td>\n",
       "    </tr>\n",
       "    <tr>\n",
       "      <th>1</th>\n",
       "      <td>Renault Duster RXZ Turbo CVT</td>\n",
       "      <td>12.83 Lakh</td>\n",
       "      <td>13,248 kms</td>\n",
       "      <td>Petrol</td>\n",
       "      <td>Automatic</td>\n",
       "      <td>1st Owner</td>\n",
       "      <td>2021</td>\n",
       "      <td>1330 cc</td>\n",
       "      <td>5 Seats</td>\n",
       "    </tr>\n",
       "    <tr>\n",
       "      <th>2</th>\n",
       "      <td>Toyota Camry 2.5 G</td>\n",
       "      <td>16.40 Lakh</td>\n",
       "      <td>60,343 kms</td>\n",
       "      <td>Petrol</td>\n",
       "      <td>Automatic</td>\n",
       "      <td>1st Owner</td>\n",
       "      <td>2016</td>\n",
       "      <td>2494 cc</td>\n",
       "      <td>5 Seats</td>\n",
       "    </tr>\n",
       "    <tr>\n",
       "      <th>3</th>\n",
       "      <td>Honda Jazz VX CVT</td>\n",
       "      <td>7.77 Lakh</td>\n",
       "      <td>26,696 kms</td>\n",
       "      <td>Petrol</td>\n",
       "      <td>Automatic</td>\n",
       "      <td>1st Owner</td>\n",
       "      <td>2018</td>\n",
       "      <td>1199 cc</td>\n",
       "      <td>5 Seats</td>\n",
       "    </tr>\n",
       "    <tr>\n",
       "      <th>4</th>\n",
       "      <td>Volkswagen Polo 1.2 MPI Highline</td>\n",
       "      <td>5.15 Lakh</td>\n",
       "      <td>69,414 kms</td>\n",
       "      <td>Petrol</td>\n",
       "      <td>Manual</td>\n",
       "      <td>1st Owner</td>\n",
       "      <td>2016</td>\n",
       "      <td>1199 cc</td>\n",
       "      <td>5 Seats</td>\n",
       "    </tr>\n",
       "  </tbody>\n",
       "</table>\n",
       "</div>"
      ],
      "text/plain": [
       "                                 car_name car_prices_in_rupee  kms_driven  \\\n",
       "0  Jeep Compass 2.0 Longitude Option BSIV          10.03 Lakh  86,226 kms   \n",
       "1            Renault Duster RXZ Turbo CVT          12.83 Lakh  13,248 kms   \n",
       "2                      Toyota Camry 2.5 G          16.40 Lakh  60,343 kms   \n",
       "3                       Honda Jazz VX CVT           7.77 Lakh  26,696 kms   \n",
       "4        Volkswagen Polo 1.2 MPI Highline           5.15 Lakh  69,414 kms   \n",
       "\n",
       "  fuel_type transmission  ownership  manufacture   engine    Seats  \n",
       "0    Diesel       Manual  1st Owner         2017  1956 cc  5 Seats  \n",
       "1    Petrol    Automatic  1st Owner         2021  1330 cc  5 Seats  \n",
       "2    Petrol    Automatic  1st Owner         2016  2494 cc  5 Seats  \n",
       "3    Petrol    Automatic  1st Owner         2018  1199 cc  5 Seats  \n",
       "4    Petrol       Manual  1st Owner         2016  1199 cc  5 Seats  "
      ]
     },
     "execution_count": 4,
     "metadata": {},
     "output_type": "execute_result"
    }
   ],
   "source": [
    "df.head()"
   ]
  },
  {
   "cell_type": "markdown",
   "id": "cf53c8d2",
   "metadata": {},
   "source": [
    "### Categorical Columns"
   ]
  },
  {
   "cell_type": "code",
   "execution_count": 5,
   "id": "800a30c9",
   "metadata": {
    "scrolled": true
   },
   "outputs": [
    {
     "name": "stdout",
     "output_type": "stream",
     "text": [
      "['Diesel' 'Petrol' 'Cng' 'Electric' 'Lpg']\n",
      "['Manual' 'Automatic']\n",
      "['1st Owner' '2nd Owner' '3rd Owner' '4th Owner' '5th Owner' '0th Owner']\n",
      "[2017 2021 2016 2018 2015 2014 2020 2019 2012 2008 2013 2022 2010 2005\n",
      " 2009 2006 2011 2007 2002 2004 1998 2003 1995 2000 2001 1999]\n"
     ]
    }
   ],
   "source": [
    "cols = ['fuel_type', 'transmission', 'ownership', 'manufacture']\n",
    "\n",
    "for col in cols:\n",
    "    print(df[col].unique())"
   ]
  },
  {
   "cell_type": "code",
   "execution_count": 6,
   "id": "99d9e735",
   "metadata": {},
   "outputs": [],
   "source": [
    "df = df[df['ownership'] != '0th Owner']"
   ]
  },
  {
   "cell_type": "markdown",
   "id": "f4248309",
   "metadata": {},
   "source": [
    "### Numerical Cols"
   ]
  },
  {
   "cell_type": "code",
   "execution_count": 7,
   "id": "060a8ff7",
   "metadata": {
    "scrolled": true
   },
   "outputs": [],
   "source": [
    "cols = ['car_prices_in_rupee', 'kms_driven', 'ownership', 'engine', 'Seats']\n",
    "for col in cols:\n",
    "    df[col] = df[col].str.replace(r\"[a-zA-Z]\",'')\n",
    "    df[col] = df[col].str.replace(r\",\",'')"
   ]
  },
  {
   "cell_type": "code",
   "execution_count": 8,
   "id": "ddb93604",
   "metadata": {},
   "outputs": [
    {
     "data": {
      "text/html": [
       "<div>\n",
       "<style scoped>\n",
       "    .dataframe tbody tr th:only-of-type {\n",
       "        vertical-align: middle;\n",
       "    }\n",
       "\n",
       "    .dataframe tbody tr th {\n",
       "        vertical-align: top;\n",
       "    }\n",
       "\n",
       "    .dataframe thead th {\n",
       "        text-align: right;\n",
       "    }\n",
       "</style>\n",
       "<table border=\"1\" class=\"dataframe\">\n",
       "  <thead>\n",
       "    <tr style=\"text-align: right;\">\n",
       "      <th></th>\n",
       "      <th>car_name</th>\n",
       "      <th>car_prices_in_rupee</th>\n",
       "      <th>kms_driven</th>\n",
       "      <th>fuel_type</th>\n",
       "      <th>transmission</th>\n",
       "      <th>ownership</th>\n",
       "      <th>manufacture</th>\n",
       "      <th>engine</th>\n",
       "      <th>Seats</th>\n",
       "    </tr>\n",
       "  </thead>\n",
       "  <tbody>\n",
       "    <tr>\n",
       "      <th>0</th>\n",
       "      <td>Jeep Compass 2.0 Longitude Option BSIV</td>\n",
       "      <td>10.03</td>\n",
       "      <td>86226</td>\n",
       "      <td>Diesel</td>\n",
       "      <td>Manual</td>\n",
       "      <td>1</td>\n",
       "      <td>2017</td>\n",
       "      <td>1956</td>\n",
       "      <td>5</td>\n",
       "    </tr>\n",
       "    <tr>\n",
       "      <th>1</th>\n",
       "      <td>Renault Duster RXZ Turbo CVT</td>\n",
       "      <td>12.83</td>\n",
       "      <td>13248</td>\n",
       "      <td>Petrol</td>\n",
       "      <td>Automatic</td>\n",
       "      <td>1</td>\n",
       "      <td>2021</td>\n",
       "      <td>1330</td>\n",
       "      <td>5</td>\n",
       "    </tr>\n",
       "    <tr>\n",
       "      <th>2</th>\n",
       "      <td>Toyota Camry 2.5 G</td>\n",
       "      <td>16.40</td>\n",
       "      <td>60343</td>\n",
       "      <td>Petrol</td>\n",
       "      <td>Automatic</td>\n",
       "      <td>1</td>\n",
       "      <td>2016</td>\n",
       "      <td>2494</td>\n",
       "      <td>5</td>\n",
       "    </tr>\n",
       "    <tr>\n",
       "      <th>3</th>\n",
       "      <td>Honda Jazz VX CVT</td>\n",
       "      <td>7.77</td>\n",
       "      <td>26696</td>\n",
       "      <td>Petrol</td>\n",
       "      <td>Automatic</td>\n",
       "      <td>1</td>\n",
       "      <td>2018</td>\n",
       "      <td>1199</td>\n",
       "      <td>5</td>\n",
       "    </tr>\n",
       "    <tr>\n",
       "      <th>4</th>\n",
       "      <td>Volkswagen Polo 1.2 MPI Highline</td>\n",
       "      <td>5.15</td>\n",
       "      <td>69414</td>\n",
       "      <td>Petrol</td>\n",
       "      <td>Manual</td>\n",
       "      <td>1</td>\n",
       "      <td>2016</td>\n",
       "      <td>1199</td>\n",
       "      <td>5</td>\n",
       "    </tr>\n",
       "  </tbody>\n",
       "</table>\n",
       "</div>"
      ],
      "text/plain": [
       "                                 car_name car_prices_in_rupee kms_driven  \\\n",
       "0  Jeep Compass 2.0 Longitude Option BSIV              10.03      86226    \n",
       "1            Renault Duster RXZ Turbo CVT              12.83      13248    \n",
       "2                      Toyota Camry 2.5 G              16.40      60343    \n",
       "3                       Honda Jazz VX CVT               7.77      26696    \n",
       "4        Volkswagen Polo 1.2 MPI Highline               5.15      69414    \n",
       "\n",
       "  fuel_type transmission ownership  manufacture engine Seats  \n",
       "0    Diesel       Manual        1          2017  1956     5   \n",
       "1    Petrol    Automatic        1          2021  1330     5   \n",
       "2    Petrol    Automatic        1          2016  2494     5   \n",
       "3    Petrol    Automatic        1          2018  1199     5   \n",
       "4    Petrol       Manual        1          2016  1199     5   "
      ]
     },
     "execution_count": 8,
     "metadata": {},
     "output_type": "execute_result"
    }
   ],
   "source": [
    "df.head()"
   ]
  },
  {
   "cell_type": "code",
   "execution_count": 9,
   "id": "c9941a64",
   "metadata": {},
   "outputs": [],
   "source": [
    "for col in ['kms_driven', 'ownership', 'engine', 'Seats']:\n",
    "    try:\n",
    "        df[col] = df[col].astype('int')\n",
    "    except:\n",
    "        df[col] = df[col]"
   ]
  },
  {
   "cell_type": "code",
   "execution_count": 10,
   "id": "1d2159a1",
   "metadata": {},
   "outputs": [
    {
     "name": "stdout",
     "output_type": "stream",
     "text": [
      "<class 'pandas.core.frame.DataFrame'>\n",
      "Int64Index: 5505 entries, 0 to 5511\n",
      "Data columns (total 9 columns):\n",
      " #   Column               Non-Null Count  Dtype \n",
      "---  ------               --------------  ----- \n",
      " 0   car_name             5505 non-null   object\n",
      " 1   car_prices_in_rupee  5505 non-null   object\n",
      " 2   kms_driven           5505 non-null   int32 \n",
      " 3   fuel_type            5505 non-null   object\n",
      " 4   transmission         5505 non-null   object\n",
      " 5   ownership            5505 non-null   int32 \n",
      " 6   manufacture          5505 non-null   int64 \n",
      " 7   engine               5505 non-null   int32 \n",
      " 8   Seats                5505 non-null   int32 \n",
      "dtypes: int32(4), int64(1), object(4)\n",
      "memory usage: 344.1+ KB\n"
     ]
    }
   ],
   "source": [
    "df.info()"
   ]
  },
  {
   "cell_type": "code",
   "execution_count": 11,
   "id": "b2ea2db8",
   "metadata": {},
   "outputs": [],
   "source": [
    "df['car_prices_in_rupee'] = df['car_prices_in_rupee'].astype('float')\n",
    "df['car_prices_in_dollar'] = df['car_prices_in_rupee']*1207.22 # 2022 Lakh Rupee to US$ Dollar"
   ]
  },
  {
   "cell_type": "code",
   "execution_count": 12,
   "id": "a39a8ab7",
   "metadata": {},
   "outputs": [
    {
     "name": "stdout",
     "output_type": "stream",
     "text": [
      "<class 'pandas.core.frame.DataFrame'>\n",
      "Int64Index: 5505 entries, 0 to 5511\n",
      "Data columns (total 10 columns):\n",
      " #   Column                Non-Null Count  Dtype  \n",
      "---  ------                --------------  -----  \n",
      " 0   car_name              5505 non-null   object \n",
      " 1   car_prices_in_rupee   5505 non-null   float64\n",
      " 2   kms_driven            5505 non-null   int32  \n",
      " 3   fuel_type             5505 non-null   object \n",
      " 4   transmission          5505 non-null   object \n",
      " 5   ownership             5505 non-null   int32  \n",
      " 6   manufacture           5505 non-null   int64  \n",
      " 7   engine                5505 non-null   int32  \n",
      " 8   Seats                 5505 non-null   int32  \n",
      " 9   car_prices_in_dollar  5505 non-null   float64\n",
      "dtypes: float64(2), int32(4), int64(1), object(3)\n",
      "memory usage: 387.1+ KB\n"
     ]
    }
   ],
   "source": [
    "df.info()"
   ]
  },
  {
   "cell_type": "code",
   "execution_count": 13,
   "id": "4d23e355",
   "metadata": {},
   "outputs": [],
   "source": [
    "df = df.drop(columns=['car_prices_in_rupee'])"
   ]
  },
  {
   "cell_type": "markdown",
   "id": "5c861bc5",
   "metadata": {},
   "source": [
    "### Feature Creation"
   ]
  },
  {
   "cell_type": "code",
   "execution_count": 14,
   "id": "e88094ec",
   "metadata": {},
   "outputs": [],
   "source": [
    "df['car_nick_name'] = [i.split()[0] for i in df['car_name']]"
   ]
  },
  {
   "cell_type": "code",
   "execution_count": 15,
   "id": "0b799e23",
   "metadata": {
    "scrolled": false
   },
   "outputs": [
    {
     "data": {
      "image/png": "[encoded data removed]",
      "text/plain": [
       "<Figure size 720x576 with 1 Axes>"
      ]
     },
     "metadata": {
      "needs_background": "light"
     },
     "output_type": "display_data"
    }
   ],
   "source": [
    "fig, ax = plt.subplots(figsize=(10,8))\n",
    "\n",
    "ax.hist(df['car_prices_in_dollar'])\n",
    "!"
   ]
  },
  {
   "cell_type": "code",
   "execution_count": 16,
   "id": "4600dfb8",
   "metadata": {},
   "outputs": [],
   "source": [
    "price_class = []\n",
    "for i in df['car_prices_in_dollar']:\n",
    "    \n",
    "    if i > 40000000:\n",
    "        i = 'high-class'\n",
    "    else:\n",
    "        i = 'low-class'\n",
    "    price_class.append(i)\n",
    "\n",
    "df['price_class'] = price_class"
   ]
  },
  {
   "cell_type": "code",
   "execution_count": 17,
   "id": "688748f7",
   "metadata": {
    "scrolled": false
   },
   "outputs": [
    {
     "data": {
      "image/png": "[encoded data removed]",
      "text/plain": [
       "<Figure size 720x576 with 1 Axes>"
      ]
     },
     "metadata": {
      "needs_background": "light"
     },
     "output_type": "display_data"
    }
   ],
   "source": [
    "fig, ax = plt.subplots(figsize=(10,8))\n",
    "\n",
    "ax.bar(x = df['price_class'].value_counts().index, height = df['price_class'].value_counts().values)\n",
    "!"
   ]
  },
  {
   "cell_type": "code",
   "execution_count": 18,
   "id": "4b501993",
   "metadata": {
    "scrolled": false
   },
   "outputs": [
    {
     "data": {
      "image/png": "[encoded data removed]",
      "text/plain": [
       "<Figure size 720x576 with 1 Axes>"
      ]
     },
     "metadata": {
      "needs_background": "light"
     },
     "output_type": "display_data"
    }
   ],
   "source": [
    "fig, ax = plt.subplots(figsize=(10,8))\n",
    "\n",
    "ax.scatter(y = df['car_prices_in_dollar'], x = df['kms_driven'], c=df['price_class'].map({'high-class':'blue', 'low-class':'red'}))\n",
    "ax.legend(df['price_class'])\n",
    "!"
   ]
  },
  {
   "cell_type": "code",
   "execution_count": 19,
   "id": "06e1a9e1",
   "metadata": {},
   "outputs": [
    {
     "data": {
      "text/plain": [
       "<BarContainer object of 2 artists>"
      ]
     },
     "execution_count": 19,
     "metadata": {},
     "output_type": "execute_result"
    },
    {
     "data": {
      "image/png": "[encoded data removed]",
      "text/plain": [
       "<Figure size 720x576 with 1 Axes>"
      ]
     },
     "metadata": {
      "needs_background": "light"
     },
     "output_type": "display_data"
    }
   ],
   "source": [
    "grouped_class = df.groupby(by='price_class').mean()['kms_driven']\n",
    "\n",
    "fig, ax = plt.subplots(figsize=(10,8))\n",
    "\n",
    "ax.bar(data = grouped_class, x=grouped_class.index, height=grouped_class.values)"
   ]
  },
  {
   "cell_type": "code",
   "execution_count": 20,
   "id": "8d050d2d",
   "metadata": {},
   "outputs": [],
   "source": [
    "df.to_csv('data/cleaned_car_price.csv')"
   ]
  },
  {
   "cell_type": "code",
   "execution_count": 21,
   "id": "f8104470",
   "metadata": {},
   "outputs": [],
   "source": [
    "df_low_price_class_only = df[df['price_class'] == 'low-class']"
   ]
  },
  {
   "cell_type": "code",
   "execution_count": 22,
   "id": "adaa5b4f",
   "metadata": {},
   "outputs": [],
   "source": [
    "df_low_price_class_only.to_csv('data/low_class.csv')"
   ]
  }
 ],
 "metadata": {
  "kernelspec": {
   "display_name": "Python 3 (ipykernel)",
   "language": "python",
   "name": "python3"
  },
  "language_info": {
   "codemirror_mode": {
    "name": "ipython",
    "version": 3
   },
   "file_extension": ".py",
   "mimetype": "text/x-python",
   "name": "python",
   "nbconvert_exporter": "python",
   "pygments_lexer": "ipython3",
   "version": "3.9.12"
  }
 },
 "nbformat": 4,
 "nbformat_minor": 5
}
